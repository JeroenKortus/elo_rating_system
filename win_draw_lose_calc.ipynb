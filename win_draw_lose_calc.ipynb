{
 "cells": [
  {
   "cell_type": "code",
   "execution_count": 29,
   "metadata": {},
   "outputs": [
    {
     "name": "stdout",
     "output_type": "stream",
     "text": [
      "[9.99940631e+01 4.46125719e-06 5.75668324e-03 2.96789079e-03]\n"
     ]
    },
    {
     "data": {
      "text/plain": [
       "[<matplotlib.lines.Line2D at 0x1217ca1f0>]"
      ]
     },
     "execution_count": 29,
     "metadata": {},
     "output_type": "execute_result"
    },
    {
     "data": {
      "image/png": "[encoded data removed]",
      "text/plain": [
       "<Figure size 432x288 with 1 Axes>"
      ]
     },
     "metadata": {
      "needs_background": "light"
     },
     "output_type": "display_data"
    }
   ],
   "source": [
    "from scipy.optimize import curve_fit\n",
    "import numpy as np\n",
    "import matplotlib.pyplot as plt\n",
    "%matplotlib inline\n",
    "\n",
    "\n",
    "def sigmoid(x, L ,x0, k, b):\n",
    "    y = L / (1 + np.exp(-k*(x-x0))) + b\n",
    "    return (y)\n",
    "\n",
    "\n",
    "xdata = range(-800,850,50)\n",
    "ydata = [0.99,1.32,1.75,2.32,3.07,4.05,5.32,6.98,9.09,11.77,15.10,19.17,24.03,29.66,35.99,42.85,50.00,\n",
    "        57.15,64.01,70.34,75.97,80.83,84.90,88.23,90.91,93.02,94.68,95.95,96.93,97.68,98.25,98.68,99.01]\n",
    "\n",
    "p0 = [0,0,0,0]\n",
    "\n",
    "popt, pcov = curve_fit(sigmoid, xdata, ydata, p0)\n",
    "\n",
    "print(popt)\n",
    "\n",
    "plt.plot(xdata, ydata, 'bo', label='data')\n",
    "plt.plot(xdata, sigmoid(xdata, *popt), 'r-')"
   ]
  },
  {
   "cell_type": "code",
   "execution_count": 40,
   "metadata": {},
   "outputs": [
    {
     "name": "stdout",
     "output_type": "stream",
     "text": [
      "64.00617522143367\n",
      "64.00649998028851\n"
     ]
    }
   ],
   "source": [
    "diff = 100\n",
    "print(sigmoid(diff, *popt))\n",
    "print(100 / (1+10**(-diff/400)))"
   ]
  },
  {
   "cell_type": "code",
   "execution_count": null,
   "metadata": {},
   "outputs": [],
   "source": [
    "#Shows graph of drawn games per elo level, per elo difference\n",
    "#https://www.quora.com/Why-do-most-chess-games-between-grandmasters-end-in-draws"
   ]
  },
  {
   "cell_type": "code",
   "execution_count": 28,
   "metadata": {},
   "outputs": [
    {
     "name": "stdout",
     "output_type": "stream",
     "text": [
      "[-0.07067227  0.01541295  9.57851891]\n",
      "1819.7925157563025\n"
     ]
    }
   ],
   "source": [
    "import numpy as np\n",
    "from scipy.optimize import curve_fit\n",
    "\n",
    "def func(X, a, b, c):\n",
    "    x,y = X\n",
    "    return a*x + b*y +c\n",
    "\n",
    "# the draw table data\n",
    "xdata = [0,20,40,60,80,100,120,140,160,180,200,220,240,260,280,300,\n",
    "    0,20,40,60,80,100,120,140,160,180,200,220,240,260,280,300,\n",
    "    0,20,40,60,80,100,120,140,160,180,200,220,240,260,280,300,\n",
    "    0,20,40,60,80,100,120,140,160,180,200,220,240,260,280,300,\n",
    "    0,20,40,60,80,100,120,140,160,180,200,220,240,260,280,300,\n",
    "    0,20,40,60,80,100,120,140,160,180,200,220,240,260,280,300,\n",
    "    0,20,40,60,80,100,120,140,160,180,200,220,240,260,280,300]\n",
    "ydata = [1400,1400,1400,1400,1400,1400,1400,1400,1400,1400,1400,1400,1400,1400,1400,1400,\n",
    "    1600,1600,1600,1600,1600,1600,1600,1600,1600,1600,1600,1600,1600,1600,1600,1600,\n",
    "    1800,1800,1800,1800,1800,1800,1800,1800,1800,1800,1800,1800,1800,1800,1800,1800,\n",
    "    2000,2000,2000,2000,2000,2000,2000,2000,2000,2000,2000,2000,2000,2000,2000,2000,\n",
    "    2200,2200,2200,2200,2200,2200,2200,2200,2200,2200,2200,2200,2200,2200,2200,2200,\n",
    "    2400,2400,2400,2400,2400,2400,2400,2400,2400,2400,2400,2400,2400,2400,2400,2400,\n",
    "    2600,2600,2600,2600,2600,2600,2600,2600,2600,2600,2600,2600,2600,2600,2600,2600]\n",
    "zdata = [21,24,25,24,24,22,23,24,22,22,20,20,21,19,18,17,\n",
    "    28,29,30,29,27,27,27,26,25,25,23,22,20,20,20,19,\n",
    "    31,32,32,32,30,30,28,27,26,25,23,23,22,22,20,20,\n",
    "    35,35,34,33,32,31,30,29,27,25,25,24,21,21,19,19,\n",
    "    42,42,40,39,37,36,34,32,30,28,25,24,22,20,19,17,\n",
    "    54,53,51,50,47,45,41,38,35,33,30,26,24,22,19,18,\n",
    "    57,54,54,52,51,50,45,42,40,37,34,31,30,28,29,25]\n",
    "\n",
    "# initial guesses for a,b,c:\n",
    "p0 = [0.2, 0.01, 20]\n",
    "popt, pcov = curve_fit(func, (xdata,ydata), zdata, p0)\n",
    "print(popt)\n",
    "\n",
    "# calc mse for function\n",
    "mse = 0\n",
    "for i in range(len(xdata)):\n",
    "    mse += (zdata[i] - func((xdata[i],ydata[i]), *popt))**2\n",
    "print(mse)"
   ]
  },
  {
   "cell_type": "code",
   "execution_count": 27,
   "metadata": {},
   "outputs": [
    {
     "name": "stdout",
     "output_type": "stream",
     "text": [
      "[-5.47719190e-05 -5.42406932e-02  9.95163600e-06 -2.43935975e-02\n",
      "  4.70259943e+01]\n",
      "1587.6354091636697\n"
     ]
    }
   ],
   "source": [
    "import numpy as np\n",
    "from scipy.optimize import curve_fit\n",
    "\n",
    "def func(X, a, b, c, d, e):\n",
    "    x,y = X\n",
    "    return a*x**2 + b*x + c*y**2 + d*y + e\n",
    "\n",
    "# some artificially noisy data to fit\n",
    "xdata = [0,20,40,60,80,100,120,140,160,180,200,220,240,260,280,300,\n",
    "    0,20,40,60,80,100,120,140,160,180,200,220,240,260,280,300,\n",
    "    0,20,40,60,80,100,120,140,160,180,200,220,240,260,280,300,\n",
    "    0,20,40,60,80,100,120,140,160,180,200,220,240,260,280,300,\n",
    "    0,20,40,60,80,100,120,140,160,180,200,220,240,260,280,300,\n",
    "    0,20,40,60,80,100,120,140,160,180,200,220,240,260,280,300,\n",
    "    0,20,40,60,80,100,120,140,160,180,200,220,240,260,280,300]\n",
    "ydata = [1400,1400,1400,1400,1400,1400,1400,1400,1400,1400,1400,1400,1400,1400,1400,1400,\n",
    "    1600,1600,1600,1600,1600,1600,1600,1600,1600,1600,1600,1600,1600,1600,1600,1600,\n",
    "    1800,1800,1800,1800,1800,1800,1800,1800,1800,1800,1800,1800,1800,1800,1800,1800,\n",
    "    2000,2000,2000,2000,2000,2000,2000,2000,2000,2000,2000,2000,2000,2000,2000,2000,\n",
    "    2200,2200,2200,2200,2200,2200,2200,2200,2200,2200,2200,2200,2200,2200,2200,2200,\n",
    "    2400,2400,2400,2400,2400,2400,2400,2400,2400,2400,2400,2400,2400,2400,2400,2400,\n",
    "    2600,2600,2600,2600,2600,2600,2600,2600,2600,2600,2600,2600,2600,2600,2600,2600]\n",
    "zdata = [21,24,25,24,24,22,23,24,22,22,20,20,21,19,18,17,\n",
    "    28,29,30,29,27,27,27,26,25,25,23,22,20,20,20,19,\n",
    "    31,32,32,32,30,30,28,27,26,25,23,23,22,22,20,20,\n",
    "    35,35,34,33,32,31,30,29,27,25,25,24,21,21,19,19,\n",
    "    42,42,40,39,37,36,34,32,30,28,25,24,22,20,19,17,\n",
    "    54,53,51,50,47,45,41,38,35,33,30,26,24,22,19,18,\n",
    "    57,54,54,52,51,50,45,42,40,37,34,31,30,28,29,25]\n",
    "\n",
    "# initial guesses for a,b,c:\n",
    "p0 = [0,0,0,0,0]\n",
    "popt, pcov = curve_fit(func, (xdata,ydata), zdata, p0)\n",
    "print(popt)\n",
    "\n",
    "# calc mse for function\n",
    "mse = 0\n",
    "for i in range(len(xdata)):\n",
    "    mse += (zdata[i] - func((xdata[i],ydata[i]), *popt))**2\n",
    "print(mse)"
   ]
  }
 ],
 "metadata": {
  "interpreter": {
   "hash": "aee8b7b246df8f9039afb4144a1f6fd8d2ca17a180786b69acc140d282b71a49"
  },
  "kernelspec": {
   "display_name": "Python 3.9.10 64-bit",
   "language": "python",
   "name": "python3"
  },
  "language_info": {
   "codemirror_mode": {
    "name": "ipython",
    "version": 3
   },
   "file_extension": ".py",
   "mimetype": "text/x-python",
   "name": "python",
   "nbconvert_exporter": "python",
   "pygments_lexer": "ipython3",
   "version": "3.9.10"
  },
  "orig_nbformat": 4
 },
 "nbformat": 4,
 "nbformat_minor": 2
}
