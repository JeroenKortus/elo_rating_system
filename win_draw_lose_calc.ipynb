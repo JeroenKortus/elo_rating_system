{
 "cells": [
  {
   "cell_type": "markdown",
   "metadata": {},
   "source": [
    "# Draw odds function\n",
    "This notebook uses a table of draw percentages per elo level and elo difference and converts it to a function to use for the simulation. The table in one of the answers on this Quora post is used. The post links to an article, but the link does not work anymore:\n",
    "https://www.quora.com/Why-do-most-chess-games-between-grandmasters-end-in-draws"
   ]
  },
  {
   "cell_type": "code",
   "execution_count": 7,
   "metadata": {},
   "outputs": [
    {
     "name": "stdout",
     "output_type": "stream",
     "text": [
      "Results for the linear function\n",
      "y = -0.0707x + 0.0154y + 9.5785\n",
      "MSE = 1819.79\n",
      "\n",
      "Results for the parabolic function\n",
      "y = -0.0001x^2 + -0.0542x + 0.0000y^2 + -0.0244y + 47.0260\n",
      "MSE = 1587.64\n",
      "\n"
     ]
    }
   ],
   "source": [
    "from scipy.optimize import curve_fit\n",
    "\n",
    "# Functions to fit the data to\n",
    "def linear_func(X, a, b, c):\n",
    "    x,y = X\n",
    "    return a*x + b*y +c\n",
    "\n",
    "def parabolic_func(X, a, b, c, d, e):\n",
    "    x,y = X\n",
    "    return a*x**2 + b*x + c*y**2 + d*y + e\n",
    "\n",
    "# the draw table data\n",
    "xdata = [0,20,40,60,80,100,120,140,160,180,200,220,240,260,280,300,\n",
    "         0,20,40,60,80,100,120,140,160,180,200,220,240,260,280,300,\n",
    "         0,20,40,60,80,100,120,140,160,180,200,220,240,260,280,300,\n",
    "         0,20,40,60,80,100,120,140,160,180,200,220,240,260,280,300,\n",
    "         0,20,40,60,80,100,120,140,160,180,200,220,240,260,280,300,\n",
    "         0,20,40,60,80,100,120,140,160,180,200,220,240,260,280,300,\n",
    "         0,20,40,60,80,100,120,140,160,180,200,220,240,260,280,300]\n",
    "\n",
    "ydata = [1400,1400,1400,1400,1400,1400,1400,1400,1400,1400,1400,1400,1400,1400,1400,1400,\n",
    "         1600,1600,1600,1600,1600,1600,1600,1600,1600,1600,1600,1600,1600,1600,1600,1600,\n",
    "         1800,1800,1800,1800,1800,1800,1800,1800,1800,1800,1800,1800,1800,1800,1800,1800,\n",
    "         2000,2000,2000,2000,2000,2000,2000,2000,2000,2000,2000,2000,2000,2000,2000,2000,\n",
    "         2200,2200,2200,2200,2200,2200,2200,2200,2200,2200,2200,2200,2200,2200,2200,2200,\n",
    "         2400,2400,2400,2400,2400,2400,2400,2400,2400,2400,2400,2400,2400,2400,2400,2400,\n",
    "         2600,2600,2600,2600,2600,2600,2600,2600,2600,2600,2600,2600,2600,2600,2600,2600]\n",
    "\n",
    "zdata = [21,24,25,24,24,22,23,24,22,22,20,20,21,19,18,17,\n",
    "         28,29,30,29,27,27,27,26,25,25,23,22,20,20,20,19,\n",
    "         31,32,32,32,30,30,28,27,26,25,23,23,22,22,20,20,\n",
    "         35,35,34,33,32,31,30,29,27,25,25,24,21,21,19,19,\n",
    "         42,42,40,39,37,36,34,32,30,28,25,24,22,20,19,17,\n",
    "         54,53,51,50,47,45,41,38,35,33,30,26,24,22,19,18,\n",
    "         57,54,54,52,51,50,45,42,40,37,34,31,30,28,29,25]\n",
    "\n",
    "### Fit the linear function ###\n",
    "# initial guesses for a,b,c:\n",
    "p0 = [0, 0, 0]\n",
    "popt, pcov = curve_fit(linear_func, (xdata,ydata), zdata, p0)\n",
    "\n",
    "# calc MSE for function\n",
    "mse = 0\n",
    "for i in range(len(xdata)):\n",
    "    mse += (zdata[i] - linear_func((xdata[i],ydata[i]), *popt))**2\n",
    "\n",
    "# print result\n",
    "print(\"Results for the linear function\")\n",
    "print(\"y = {:.4f}x + {:.4f}y + {:.4f}\".format(*popt))\n",
    "print(\"MSE = {:.2f}\\n\".format(mse))\n",
    "\n",
    "### Fit the parabolic function ###\n",
    "# initial guesses for a,b,c:\n",
    "p0 = [0,0,0,0,0]\n",
    "popt, pcov = curve_fit(parabolic_func, (xdata,ydata), zdata, p0)\n",
    "\n",
    "# calc mse for function\n",
    "mse = 0\n",
    "for i in range(len(xdata)):\n",
    "    mse += (zdata[i] - parabolic_func((xdata[i],ydata[i]), *popt))**2\n",
    "\n",
    "# print result\n",
    "print(\"Results for the parabolic function\")\n",
    "print(\"y = {:.4f}x^2 + {:.4f}x + {:.4f}y^2 + {:.4f}y + {:.4f}\".format(*popt))\n",
    "print(\"MSE = {:.2f}\\n\".format(mse))"
   ]
  }
 ],
 "metadata": {
  "interpreter": {
   "hash": "aee8b7b246df8f9039afb4144a1f6fd8d2ca17a180786b69acc140d282b71a49"
  },
  "kernelspec": {
   "display_name": "Python 3.9.10 64-bit",
   "language": "python",
   "name": "python3"
  },
  "language_info": {
   "codemirror_mode": {
    "name": "ipython",
    "version": 3
   },
   "file_extension": ".py",
   "mimetype": "text/x-python",
   "name": "python",
   "nbconvert_exporter": "python",
   "pygments_lexer": "ipython3",
   "version": "3.7.9"
  },
  "orig_nbformat": 4
 },
 "nbformat": 4,
 "nbformat_minor": 2
}
