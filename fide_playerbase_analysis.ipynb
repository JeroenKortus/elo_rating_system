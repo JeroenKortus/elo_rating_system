{
 "cells": [
  {
   "cell_type": "code",
   "execution_count": 15,
   "metadata": {},
   "outputs": [
    {
     "name": "stdout",
     "output_type": "stream",
     "text": [
      "ID Number      Name                                                         Fed Sex Tit  WTit OTit           FOA MAR22 Gms K  B-day Flag\n",
      "\n",
      "137\n"
     ]
    }
   ],
   "source": [
    "with open(\"standard_rating_list.txt\", \"r\") as file:\n",
    "    lines = file.readlines()\n",
    "    print(lines[0])\n",
    "    print(len(lines[0]))"
   ]
  }
 ],
 "metadata": {
  "interpreter": {
   "hash": "0600588c3b5f4418cbe7b5ebc6825b479f3bc010269d8b60d75058cdd010adfe"
  },
  "kernelspec": {
   "display_name": "Python 3.7.9 64-bit",
   "language": "python",
   "name": "python3"
  },
  "language_info": {
   "codemirror_mode": {
    "name": "ipython",
    "version": 3
   },
   "file_extension": ".py",
   "mimetype": "text/x-python",
   "name": "python",
   "nbconvert_exporter": "python",
   "pygments_lexer": "ipython3",
   "version": "3.7.9"
  },
  "orig_nbformat": 4
 },
 "nbformat": 4,
 "nbformat_minor": 2
}
