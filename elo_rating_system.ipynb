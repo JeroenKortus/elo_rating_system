{
 "cells": [
  {
   "cell_type": "code",
   "execution_count": 2,
   "id": "0d1e7248",
   "metadata": {},
   "outputs": [],
   "source": [
    "import random\n",
    "from names import get_full_name\n",
    "from tqdm import tqdm\n",
    "from scipy import stats\n",
    "\n",
    "class competition:\n",
    "    \n",
    "    def __init__(self, nr_players):\n",
    "        self.player_poule = [player(skill_level = stats.truncnorm((0 - 0.5) / 0.15, (1 - 0.5) / 0.15, loc=0.5, scale=0.15).rvs(1)[0]) for i in tqdm(range(nr_players))]\n",
    "        \n",
    "    def play_rand_matches(self, nr_of_games):\n",
    "        for game in tqdm(range(nr_of_games)):\n",
    "            players = random.sample(range(0, len(self.player_poule)), 2)\n",
    "            \n",
    "            m = match(self.player_poule[players[0]], self.player_poule[players[1]])\n",
    "            m.simulate_match()\n",
    "        \n",
    "    def show_standings(self):\n",
    "        sorted_poule = sorted(self.player_poule, key=lambda x: x.rating, reverse=True)\n",
    "        print(\"leaderboard standings\")\n",
    "        print(\"------------------------------------\")\n",
    "        for p in sorted_poule[0:10]:\n",
    "            print(\"{} | {:4d} | {:.3f}\".format(p.name.ljust(21), p.rating, p.skill_level))\n",
    "        for p in sorted_poule[-11:-1]:\n",
    "            print(\"{} | {:4d} | {:.3f}\".format(p.name.ljust(21), p.rating, p.skill_level))\n",
    "        print(\"------------------------------------\\n\")\n",
    "    \n",
    "\n",
    "class match:\n",
    "    \n",
    "    def __init__(self, player1, player2, k_factor = 32):\n",
    "        self.p1 = player1\n",
    "        self.p2 = player2\n",
    "        self.k_factor = k_factor\n",
    "        \n",
    "        self.es_p1 = 1 / (1 + 10**((player2.rating - player1.rating) / 400))\n",
    "        self.es_p2 = 1 / (1 + 10**((player1.rating - player2.rating) / 400))\n",
    "    \n",
    "    def simulate_match(self):\n",
    "        sl_p1 = self.p1.skill_level\n",
    "        sl_p2 = self.p2.skill_level\n",
    "        draw_odds = (1 - abs(sl_p1 - sl_p2)) * (sl_p1 + sl_p2)\n",
    "        win_chances = [sl_p1, draw_odds, sl_p2]\n",
    "        \n",
    "        result_p1 = random.choices([1, 0.5, 0], weights = win_chances, k=1)[0]\n",
    "        result_p2 = 1-result_p1\n",
    "        \n",
    "        self.p1.update_rating(self.k_factor, self.es_p1, result_p1)\n",
    "        self.p2.update_rating(self.k_factor, self.es_p2, result_p2)\n",
    "        \n",
    "        return result_p1\n",
    "\n",
    "class player:\n",
    "    \n",
    "    def __init__(self, rating = 1900, skill_level = 0.5, name = \"filler name\"):\n",
    "        self.name = name\n",
    "        self.rating = rating\n",
    "        self.skill_level = skill_level\n",
    "    \n",
    "    def update_rating(self, k_factor, expected_score, result):\n",
    "        change = k_factor * (result - expected_score)\n",
    "        self.rating += round(change)\n"
   ]
  },
  {
   "cell_type": "code",
   "execution_count": 5,
   "id": "e17298ba",
   "metadata": {
    "scrolled": true
   },
   "outputs": [
    {
     "name": "stderr",
     "output_type": "stream",
     "text": [
      "100%|██████████| 200000/200000 [01:43<00:00, 1925.97it/s]\n"
     ]
    },
    {
     "name": "stdout",
     "output_type": "stream",
     "text": [
      "leaderboard standings\n",
      "------------------------------------\n",
      "filler name           | 1900 | 0.485\n",
      "filler name           | 1900 | 0.571\n",
      "filler name           | 1900 | 0.398\n",
      "filler name           | 1900 | 0.188\n",
      "filler name           | 1900 | 0.341\n",
      "filler name           | 1900 | 0.580\n",
      "filler name           | 1900 | 0.312\n",
      "filler name           | 1900 | 0.431\n",
      "filler name           | 1900 | 0.314\n",
      "filler name           | 1900 | 0.506\n",
      "filler name           | 1900 | 0.466\n",
      "filler name           | 1900 | 0.495\n",
      "filler name           | 1900 | 0.628\n",
      "filler name           | 1900 | 0.271\n",
      "filler name           | 1900 | 0.436\n",
      "filler name           | 1900 | 0.618\n",
      "filler name           | 1900 | 0.444\n",
      "filler name           | 1900 | 0.504\n",
      "filler name           | 1900 | 0.628\n",
      "filler name           | 1900 | 0.599\n",
      "------------------------------------\n",
      "\n"
     ]
    },
    {
     "name": "stderr",
     "output_type": "stream",
     "text": [
      "100%|██████████| 10000000/10000000 [01:41<00:00, 98405.45it/s]\n"
     ]
    },
    {
     "name": "stdout",
     "output_type": "stream",
     "text": [
      "leaderboard standings\n",
      "------------------------------------\n",
      "filler name           | 2143 | 0.838\n",
      "filler name           | 2119 | 0.895\n",
      "filler name           | 2115 | 0.884\n",
      "filler name           | 2114 | 0.654\n",
      "filler name           | 2111 | 0.980\n",
      "filler name           | 2103 | 0.783\n",
      "filler name           | 2100 | 0.905\n",
      "filler name           | 2099 | 0.948\n",
      "filler name           | 2094 | 0.901\n",
      "filler name           | 2094 | 0.885\n",
      "filler name           | 1604 | 0.029\n",
      "filler name           | 1599 | 0.004\n",
      "filler name           | 1596 | 0.037\n",
      "filler name           | 1594 | 0.050\n",
      "filler name           | 1590 | 0.005\n",
      "filler name           | 1586 | 0.028\n",
      "filler name           | 1584 | 0.004\n",
      "filler name           | 1580 | 0.009\n",
      "filler name           | 1578 | 0.000\n",
      "filler name           | 1574 | 0.001\n",
      "------------------------------------\n",
      "\n"
     ]
    }
   ],
   "source": [
    "c = competition(200000)\n",
    "c.show_standings()\n",
    "c.play_rand_matches(10000000)\n",
    "c.show_standings()"
   ]
  },
  {
   "cell_type": "code",
   "execution_count": 10,
   "id": "4d2de816",
   "metadata": {},
   "outputs": [],
   "source": [
    "# NOTES\n",
    "# - gaat er vanuit dat iedereen tegen iedereen speelt\n",
    "# - match simulatie gaat nog niet goed. de beste moeten meer winnen"
   ]
  }
 ],
 "metadata": {
  "kernelspec": {
   "display_name": "Python 3",
   "language": "python",
   "name": "python3"
  },
  "language_info": {
   "codemirror_mode": {
    "name": "ipython",
    "version": 3
   },
   "file_extension": ".py",
   "mimetype": "text/x-python",
   "name": "python",
   "nbconvert_exporter": "python",
   "pygments_lexer": "ipython3",
   "version": "3.7.9"
  }
 },
 "nbformat": 4,
 "nbformat_minor": 5
}
