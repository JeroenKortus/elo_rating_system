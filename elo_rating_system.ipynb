{
 "cells": [
  {
   "cell_type": "code",
   "execution_count": 5,
   "id": "0d1e7248",
   "metadata": {},
   "outputs": [],
   "source": [
    "import random\n",
    "from names import get_full_name\n",
    "from tqdm import tqdm\n",
    "from scipy import stats\n",
    "\n",
    "def expected_win_chance(elo_diff):\n",
    "    return 1 / (1 + 10**(elo_diff/400))\n",
    "\n",
    "def expected_draw_chance(elo_diff, elo_level):\n",
    "    a,b,c = -0.07067227,  0.01541295,  9.57851891\n",
    "    return a*elo_diff + b*elo_level + c\n",
    "\n",
    "class competition:\n",
    "    \n",
    "    def __init__(self, nr_players):\n",
    "        self.player_poule = [player(skill_level = stats.truncnorm((0 - 0.5) / 0.15, (1 - 0.5) / 0.15, loc=0.5, scale=0.15).rvs(1)[0]) for i in tqdm(range(nr_players))]\n",
    "        \n",
    "    def play_rand_matches(self, nr_of_games):\n",
    "        for game in tqdm(range(nr_of_games)):\n",
    "            players = random.sample(range(0, len(self.player_poule)), 2)\n",
    "            \n",
    "            m = match(self.player_poule[players[0]], self.player_poule[players[1]])\n",
    "            m.simulate_match()\n",
    "        \n",
    "    def show_standings(self):\n",
    "        sorted_poule = sorted(self.player_poule, key=lambda x: x.rating, reverse=True)\n",
    "        print(\"leaderboard standings\")\n",
    "        print(\"------------------------------------\")\n",
    "        for p in sorted_poule[0:10]:\n",
    "            print(\"{} | {:4d} | {:.3f}\".format(p.name.ljust(21), round(p.rating), p.skill_level))\n",
    "        for p in sorted_poule[-11:-1]:\n",
    "            print(\"{} | {:4d} | {:.3f}\".format(p.name.ljust(21), round(p.rating), p.skill_level))\n",
    "        print(\"------------------------------------\\n\")\n",
    "    \n",
    "\n",
    "class match:\n",
    "    \n",
    "    def __init__(self, player1, player2, k_factor = 32):\n",
    "        self.p1 = player1\n",
    "        self.p2 = player2\n",
    "        \n",
    "        self.es_p1 = 1 / (1 + 10**((player2.rating - player1.rating) / 400))\n",
    "        self.es_p2 = 1 / (1 + 10**((player1.rating - player2.rating) / 400))\n",
    "    \n",
    "    def simulate_match(self):\n",
    "\n",
    "        win_chances = self.calc_odds(self.p1.skill_level, self.p2.skill_level)\n",
    "\n",
    "        result_p1 = random.choices([1, 0.5, 0], weights = win_chances, k=1)[0]\n",
    "        result_p2 = 1-result_p1\n",
    "        \n",
    "        self.p1.update_rating(self.es_p1, result_p1)\n",
    "        self.p2.update_rating(self.es_p2, result_p2)\n",
    "\n",
    "        self.p1.games_played += 1\n",
    "        self.p2.games_played += 1\n",
    "\n",
    "        self.p1.update_k_factor()\n",
    "        self.p2.update_k_factor\n",
    "        \n",
    "        return result_p1\n",
    "\n",
    "    def calc_odds(self, sl_p1, sl_p2):\n",
    "        mapped_sl_p1 = 900 + sl_p1 * 2000\n",
    "        mapped_sl_p2 = 900 + sl_p2 * 2000\n",
    "        elo_diff = mapped_sl_p2 - mapped_sl_p1\n",
    "\n",
    "        p1_win_odds = expected_win_chance(elo_diff)\n",
    "        p2_win_odds = expected_win_chance(-elo_diff)\n",
    "        draw_odds = expected_draw_chance(abs(elo_diff), max([mapped_sl_p1, mapped_sl_p2]))\n",
    "        \n",
    "        # Correct for imperfect draw odds function\n",
    "        draw_odds = draw_odds if draw_odds <= min([p1_win_odds, p2_win_odds]) else min([p1_win_odds, p2_win_odds])*2\n",
    "\n",
    "        p1_win_odds -= draw_odds/2\n",
    "        p2_win_odds -= draw_odds/2\n",
    "\n",
    "        return [p1_win_odds, draw_odds, p2_win_odds]\n",
    "\n",
    "\n",
    "\n",
    "class player:\n",
    "    \n",
    "    def __init__(self, rating = 1900, skill_level = 0.5, name = \"filler name\"):\n",
    "        self.name = name\n",
    "        self.rating = rating\n",
    "        self.skill_level = skill_level\n",
    "        self.k_factor = 40\n",
    "        self.games_played = 0\n",
    "        self.has_hit_2400 = False\n",
    "\n",
    "    \n",
    "    def update_rating(self, expected_score, result):\n",
    "        change = self.k_factor * (result - expected_score)\n",
    "        self.rating += change\n",
    "\n",
    "    def update_k_factor(self):\n",
    "        if self.rating >= 2400:\n",
    "            self.has_hit_2400 = True\n",
    "        \n",
    "        if self.games_played >= 30:\n",
    "            if self.has_hit_2400:\n",
    "                self.k_factor = 10\n",
    "            else:\n",
    "                self.k_factor = 20\n",
    "        else:\n",
    "            self.k_factor = 40\n",
    "            \n",
    "        \n",
    "\n"
   ]
  },
  {
   "cell_type": "code",
   "execution_count": 7,
   "id": "e17298ba",
   "metadata": {
    "scrolled": true
   },
   "outputs": [
    {
     "name": "stderr",
     "output_type": "stream",
     "text": [
      "100%|██████████| 10000000/10000000 [05:08<00:00, 32451.25it/s]"
     ]
    },
    {
     "name": "stdout",
     "output_type": "stream",
     "text": [
      "leaderboard standings\n",
      "------------------------------------\n",
      "filler name           | 2210 | 0.703\n",
      "filler name           | 2200 | 0.870\n",
      "filler name           | 2199 | 0.792\n",
      "filler name           | 2180 | 0.743\n",
      "filler name           | 2177 | 0.717\n",
      "filler name           | 2176 | 0.792\n",
      "filler name           | 2171 | 0.705\n",
      "filler name           | 2164 | 0.734\n",
      "filler name           | 2164 | 0.754\n",
      "filler name           | 2163 | 0.752\n",
      "filler name           | 1671 | 0.324\n",
      "filler name           | 1670 | 0.362\n",
      "filler name           | 1667 | 0.318\n",
      "filler name           | 1666 | 0.318\n",
      "filler name           | 1664 | 0.308\n",
      "filler name           | 1662 | 0.312\n",
      "filler name           | 1661 | 0.324\n",
      "filler name           | 1661 | 0.318\n",
      "filler name           | 1648 | 0.277\n",
      "filler name           | 1644 | 0.336\n",
      "------------------------------------\n",
      "\n"
     ]
    },
    {
     "name": "stderr",
     "output_type": "stream",
     "text": [
      "\n"
     ]
    }
   ],
   "source": [
    "c = competition(2000)\n",
    "c.show_standings()\n",
    "c.play_rand_matches(10000000)\n",
    "c.show_standings()"
   ]
  },
  {
   "cell_type": "code",
   "execution_count": 10,
   "id": "4d2de816",
   "metadata": {},
   "outputs": [],
   "source": [
    "# NOTES\n",
    "# - gaat er vanuit dat iedereen tegen iedereen speelt\n",
    "# - match simulatie gaat nog niet goed. de beste moeten meer winnen\n",
    "\n",
    "# Map to 900-1900-2900, but FIDE rules don't allow elo to be below certain point (I think it is 1000 or 1200)\n",
    "\n",
    "# K is the development coefficient.\n",
    "# K = 40 for a player new to the rating list until he has completed events with at least 30 games\n",
    "# K = 20 as long as a player's rating remains under 2400.\n",
    "# K = 10 once a player's published rating has reached 2400 and remains at that level subsequently, even if the rating drops below 2400.\n",
    "# K = 40 for all players until their 18th birthday, as long as their rating remains under 2300.\n"
   ]
  },
  {
   "cell_type": "code",
   "execution_count": 4,
   "id": "9adc89f5",
   "metadata": {},
   "outputs": [
    {
     "name": "stdout",
     "output_type": "stream",
     "text": [
      "jeroen kortus         |  901 | 0.976\n"
     ]
    }
   ],
   "source": [
    "name = \"jeroen kortus\"\n",
    "rating = 900.99\n",
    "skill_level = 0.9763224\n",
    "print(\"{} | {:4d} | {:.3f}\".format(name.ljust(21), round(rating), skill_level))"
   ]
  }
 ],
 "metadata": {
  "kernelspec": {
   "display_name": "Python 3",
   "language": "python",
   "name": "python3"
  },
  "language_info": {
   "codemirror_mode": {
    "name": "ipython",
    "version": 3
   },
   "file_extension": ".py",
   "mimetype": "text/x-python",
   "name": "python",
   "nbconvert_exporter": "python",
   "pygments_lexer": "ipython3",
   "version": "3.9.10"
  }
 },
 "nbformat": 4,
 "nbformat_minor": 5
}
