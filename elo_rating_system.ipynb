{
 "cells": [
  {
   "cell_type": "code",
   "execution_count": 581,
   "id": "0d1e7248",
   "metadata": {},
   "outputs": [],
   "source": [
    "import random\n",
    "from names import get_full_name\n",
    "from tqdm import tqdm\n",
    "\n",
    "class competition:\n",
    "    \n",
    "    def __init__(self, nr_players):\n",
    "        self.player_poule = [player(skill_level = random.random(), name = get_full_name()) for i in range(nr_players)]\n",
    "        \n",
    "    def play_rand_matches(self, nr_of_games):\n",
    "        for game in tqdm(range(nr_of_games)):\n",
    "            players = random.sample(range(0, len(self.player_poule)), 2)\n",
    "            \n",
    "            m = match(self.player_poule[players[0]], self.player_poule[players[1]])\n",
    "            m.simulate_match()\n",
    "        \n",
    "    def show_standings(self):\n",
    "        sorted_poule = sorted(self.player_poule, key=lambda x: x.rating, reverse=True)\n",
    "        print(\"leaderboard standings\")\n",
    "        print(\"------------------------------------\")\n",
    "        for p in sorted_poule[0:20]:\n",
    "            print(\"{} | {:4d} | {:.3f}\".format(p.name.ljust(21), p.rating, p.skill_level))\n",
    "        for p in sorted_poule[-1:-21]:\n",
    "            print(\"{} | {:4d} | {:.3f}\".format(p.name.ljust(21), p.rating, p.skill_level))\n",
    "        print(\"------------------------------------\\n\")\n",
    "    \n",
    "\n",
    "class match:\n",
    "    \n",
    "    def __init__(self, player1, player2, k_factor = 32):\n",
    "        self.p1 = player1\n",
    "        self.p2 = player2\n",
    "        self.k_factor = k_factor\n",
    "        \n",
    "        self.es_p1 = 1 / (1 + 10**((player2.rating - player1.rating) / 400))\n",
    "        self.es_p2 = 1 / (1 + 10**((player1.rating - player2.rating) / 400))\n",
    "    \n",
    "    def simulate_match(self):\n",
    "        sl_p1 = self.p1.skill_level\n",
    "        sl_p2 = self.p2.skill_level\n",
    "        draw_odds = (1 - abs(sl_p1 - sl_p2)) * (sl_p1 + sl_p2)\n",
    "        win_chances = [sl_p1, draw_odds, sl_p2]\n",
    "        \n",
    "        result_p1 = random.choices([1, 0.5, 0], weights = win_chances, k=1)[0]\n",
    "        result_p2 = 1-result_p1\n",
    "        \n",
    "        self.p1.update_rating(self.k_factor, self.es_p1, result_p1)\n",
    "        self.p2.update_rating(self.k_factor, self.es_p2, result_p2)\n",
    "        \n",
    "        return result_p1\n",
    "\n",
    "class player:\n",
    "    \n",
    "    def __init__(self, rating = 1200, skill_level = 0.5, name = \"filler name\"):\n",
    "        self.name = name\n",
    "        self.rating = rating\n",
    "        self.skill_level = skill_level\n",
    "    \n",
    "    def update_rating(self, k_factor, expected_score, result):\n",
    "        change = k_factor * (result - expected_score)\n",
    "        self.rating += round(change)\n"
   ]
  },
  {
   "cell_type": "code",
   "execution_count": 583,
   "id": "e17298ba",
   "metadata": {
    "scrolled": true
   },
   "outputs": [
    {
     "name": "stdout",
     "output_type": "stream",
     "text": [
      "leaderboard standings\n",
      "------------------------------------\n",
      "Carolyn Schmuff       | 1200 | 0.315\n",
      "Thomas Hamilton       | 1200 | 0.364\n",
      "Eleanor Cunningham    | 1200 | 0.247\n",
      "Charlene Martindale   | 1200 | 0.087\n",
      "John Lane             | 1200 | 0.081\n",
      "Dwayne Eversole       | 1200 | 0.760\n",
      "Eugene Jimenez        | 1200 | 0.860\n",
      "Sheri Swearingen      | 1200 | 0.662\n",
      "Juan Waits            | 1200 | 0.043\n",
      "Thomas Hohlstein      | 1200 | 0.757\n",
      "Liz Fowler            | 1200 | 0.669\n",
      "Lillian Williamson    | 1200 | 0.185\n",
      "Shannon Mcdonough     | 1200 | 0.995\n",
      "Katherine Tieng       | 1200 | 0.158\n",
      "Andrea Richardson     | 1200 | 0.560\n",
      "Douglas Kees          | 1200 | 0.419\n",
      "Rita Whitlatch        | 1200 | 0.421\n",
      "Arlene Bird           | 1200 | 0.661\n",
      "Tonya Standridge      | 1200 | 0.333\n",
      "Susan Weber           | 1200 | 0.107\n",
      "------------------------------------\n",
      "\n"
     ]
    },
    {
     "name": "stderr",
     "output_type": "stream",
     "text": [
      "100%|████████████████████████████████████████████████████████████████| 100000000/100000000 [14:05<00:00, 118216.28it/s]"
     ]
    },
    {
     "name": "stdout",
     "output_type": "stream",
     "text": [
      "leaderboard standings\n",
      "------------------------------------\n",
      "John Nelson           | 1428 | 0.980\n",
      "Latonya Hong          | 1421 | 0.928\n",
      "Robert Gonzalez       | 1418 | 0.956\n",
      "Norma Poling          | 1417 | 0.971\n",
      "Matthew Heuer         | 1415 | 0.917\n",
      "Theresa Aitken        | 1411 | 0.952\n",
      "Anthony Harbour       | 1407 | 0.911\n",
      "Heather Poirrier      | 1406 | 0.972\n",
      "Pasquale Brackett     | 1403 | 0.870\n",
      "Joy Holstein          | 1401 | 0.935\n",
      "Roy Pimentel          | 1397 | 0.995\n",
      "William Henderson     | 1396 | 0.788\n",
      "Martin Armstead       | 1394 | 0.965\n",
      "Shannon Mcdonough     | 1391 | 0.995\n",
      "Barbara Ellis         | 1391 | 0.917\n",
      "Cara Driscoll         | 1389 | 0.919\n",
      "Leon Stein            | 1389 | 0.956\n",
      "Kellie Bucklin        | 1389 | 0.958\n",
      "Jeffrey Brown         | 1388 | 0.884\n",
      "Charla Rivera         | 1388 | 0.945\n",
      "------------------------------------\n",
      "\n"
     ]
    },
    {
     "name": "stderr",
     "output_type": "stream",
     "text": [
      "\n"
     ]
    }
   ],
   "source": [
    "c = competition(2000)\n",
    "c.show_standings()\n",
    "c.play_rand_matches(100000000)\n",
    "c.show_standings()"
   ]
  },
  {
   "cell_type": "code",
   "execution_count": null,
   "id": "4d2de816",
   "metadata": {},
   "outputs": [],
   "source": [
    "\n",
    "\n",
    "\n"
   ]
  },
  {
   "cell_type": "code",
   "execution_count": 424,
   "id": "47e6283f",
   "metadata": {
    "collapsed": true
   },
   "outputs": [
    {
     "name": "stdout",
     "output_type": "stream",
     "text": [
      "ratings: 2000    -    1900\n",
      "skill:   1.00 - 0.00 - 0.00\n",
      "---------------------\n",
      "p1 1  -  0 p2\n",
      "ratings: 2012 - 1888\n",
      "---------------------\n",
      "p1 1  -  0 p2\n",
      "ratings: 2090 - 1810\n",
      "---------------------\n",
      "p1 1  -  0 p2\n",
      "ratings: 2134 - 1766\n",
      "---------------------\n",
      "p1 1  -  0 p2\n",
      "ratings: 2164 - 1736\n",
      "---------------------\n",
      "p1 1  -  0 p2\n",
      "ratings: 2185 - 1715\n",
      "---------------------\n",
      "p1 1  -  0 p2\n",
      "ratings: 2205 - 1695\n",
      "---------------------\n",
      "p1 1  -  0 p2\n",
      "ratings: 2219 - 1681\n",
      "---------------------\n",
      "p1 1  -  0 p2\n",
      "ratings: 2229 - 1671\n",
      "---------------------\n",
      "p1 1  -  0 p2\n",
      "ratings: 2239 - 1661\n",
      "---------------------\n",
      "p1 1  -  0 p2\n",
      "ratings: 2249 - 1651\n"
     ]
    }
   ],
   "source": [
    "p1 = player(2000, 0.999)\n",
    "p2 = player(1900, 0.0)\n",
    "draw_odds = (1 - abs(p1.skill_level - p2.skill_level)) * (p1.skill_level + p2.skill_level)\n",
    "print(\"ratings: {}    -    {}\".format(p1.rating, p2.rating))\n",
    "print(\"skill:   {:.2f} - {:.2f} - {:.2f}\".format(p1.skill_level, draw_odds, p2.skill_level))\n",
    "\n",
    "for i in range(100):\n",
    "    m = match(p1, p2, 32)\n",
    "    result = m.simulate_match()\n",
    "    if i % 10 == 0:\n",
    "        print(\"---------------------\")\n",
    "        print(\"p1 {}  -  {} p2\".format(result, 1-result))\n",
    "        print(\"ratings: {} - {}\".format(p1.rating, p2.rating))\n",
    "        "
   ]
  }
 ],
 "metadata": {
  "kernelspec": {
   "display_name": "Python 3",
   "language": "python",
   "name": "python3"
  },
  "language_info": {
   "codemirror_mode": {
    "name": "ipython",
    "version": 3
   },
   "file_extension": ".py",
   "mimetype": "text/x-python",
   "name": "python",
   "nbconvert_exporter": "python",
   "pygments_lexer": "ipython3",
   "version": "3.7.9"
  }
 },
 "nbformat": 4,
 "nbformat_minor": 5
}
