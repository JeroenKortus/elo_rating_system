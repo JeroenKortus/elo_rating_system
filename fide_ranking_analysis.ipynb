{
 "cells": [
  {
   "cell_type": "code",
   "execution_count": null,
   "metadata": {},
   "outputs": [],
   "source": [
    "import os\n",
    "import pandas as pd\n",
    "\n",
    "directory = \"monthly_playerbase_data\"\n",
    "\n",
    "monthly_data = {}\n",
    "for filename in os.scandir(directory):\n",
    "    with open(filename, \"r\") as file:\n",
    "        print(filename)\n",
    "        lines = file.readlines()\n",
    "        data = []\n",
    "        for row in lines:\n",
    "            line = [row[0:15],row[15:76],row[76:80],row[80:84],row[84:89],row[89:94],row[94:109],row[109:113],row[113:119],row[119:123],row[123:126],row[126:132],row[132:]]\n",
    "            stripped = [x.strip() for x in line]\n",
    "            data.append(stripped)\n",
    "\n",
    "        df = pd.DataFrame(data[1:],columns=data[0])\n",
    "        df = df.astype({\"ID Number\": int, df.columns[8]: int, \"K\": int, \"B-day\": int})\n",
    "        \n",
    "\n",
    "        monthly_data[df.columns[8]] = df"
   ]
  },
  {
   "cell_type": "code",
   "execution_count": null,
   "metadata": {},
   "outputs": [],
   "source": [
    "for idx, i in enumerate(df[\"B-day\"]):\n",
    "    print(idx, int(i))"
   ]
  },
  {
   "cell_type": "code",
   "execution_count": 37,
   "metadata": {},
   "outputs": [
    {
     "name": "stdout",
     "output_type": "stream",
     "text": [
      "monthly_playerbase_data/standard_aug20frl.txt\n"
     ]
    },
    {
     "data": {
      "text/plain": [
       "['9301879',\n",
       " 'Shakari, Saeed Yousuf',\n",
       " 'UAE',\n",
       " 'M',\n",
       " '',\n",
       " '',\n",
       " 'FA,IA,FI,SI,IO,',\n",
       " 'SI',\n",
       " '1812',\n",
       " '0',\n",
       " '2',\n",
       " '0 1988',\n",
       " 'i']"
      ]
     },
     "execution_count": 37,
     "metadata": {},
     "output_type": "execute_result"
    }
   ],
   "source": [
    "filename = \"monthly_playerbase_data/standard_aug20frl.txt\"\n",
    "\n",
    "with open(filename, \"r\") as file:\n",
    "    print(filename)\n",
    "    lines = file.readlines()\n",
    "    data = []\n",
    "    for row in lines:\n",
    "        line = [row[0:15],row[15:76],row[76:80],row[80:84],row[84:89],row[89:94],row[94:109],row[109:113],row[113:119],row[119:123],row[123:126],row[126:132],row[132:]]\n",
    "        stripped = [x.strip() for x in line]\n",
    "        data.append(stripped)\n",
    "\n",
    "data[295018]"
   ]
  }
 ],
 "metadata": {
  "interpreter": {
   "hash": "0600588c3b5f4418cbe7b5ebc6825b479f3bc010269d8b60d75058cdd010adfe"
  },
  "kernelspec": {
   "display_name": "Python 3.7.9 64-bit",
   "language": "python",
   "name": "python3"
  },
  "language_info": {
   "codemirror_mode": {
    "name": "ipython",
    "version": 3
   },
   "file_extension": ".py",
   "mimetype": "text/x-python",
   "name": "python",
   "nbconvert_exporter": "python",
   "pygments_lexer": "ipython3",
   "version": "3.7.9"
  },
  "orig_nbformat": 4
 },
 "nbformat": 4,
 "nbformat_minor": 2
}
