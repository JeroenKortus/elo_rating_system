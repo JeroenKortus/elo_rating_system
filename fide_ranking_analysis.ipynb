{
 "cells": [
  {
   "cell_type": "code",
   "execution_count": 1,
   "metadata": {},
   "outputs": [],
   "source": [
    "import numpy as np\n",
    "import os\n",
    "import pandas as pd\n",
    "import tqdm\n",
    "import matplotlib.pyplot as plt\n",
    "%matplotlib inline\n",
    "\n",
    "import sys\n",
    "sys.path.append('/Users/jk/data_science')\n",
    "from visual_identity import COLORS\n"
   ]
  },
  {
   "cell_type": "code",
   "execution_count": 4,
   "metadata": {},
   "outputs": [
    {
     "name": "stderr",
     "output_type": "stream",
     "text": [
      "100%|██████████| 39/39 [02:00<00:00,  3.10s/it]\n"
     ]
    }
   ],
   "source": [
    "directory = \"monthly_playerbase_data\"\n",
    "\n",
    "monthly_data = {}\n",
    "for filename in tqdm.tqdm([x for x in os.scandir(directory)]):\n",
    "    with open(filename, \"r\") as file:\n",
    "        lines = file.readlines()\n",
    "        data = []\n",
    "        for row in lines:\n",
    "            line = [row[0:15],row[15:76],row[76:80],row[80:84],row[84:89],row[89:94],row[94:109],row[109:113],row[113:119],row[119:123],row[123:126],row[126:132],row[132:]]\n",
    "            stripped = [x.strip() for x in line]\n",
    "            data.append(stripped)\n",
    "\n",
    "        df = pd.DataFrame(data[1:],columns=data[0])\n",
    "        df = df.astype({\"ID Number\": int, df.columns[8]: int, \"K\": int, \"B-day\": int})\n",
    "        \n",
    "        monthly_data[df.columns[8]] = df"
   ]
  },
  {
   "cell_type": "code",
   "execution_count": 14,
   "metadata": {},
   "outputs": [
    {
     "name": "stdout",
     "output_type": "stream",
     "text": [
      "avg rating all:  1645\n",
      "avg rating all active:  1652\n",
      "avg rating all active & K!=40:  1838\n"
     ]
    },
    {
     "data": {
      "image/png": "[encoded data removed]",
      "text/plain": [
       "<Figure size 432x288 with 1 Axes>"
      ]
     },
     "metadata": {
      "needs_background": "light"
     },
     "output_type": "display_data"
    }
   ],
   "source": [
    "df = monthly_data[\"MAR22\"]\n",
    "df_active = df[(df.Flag != \"i\") & (df.Flag != \"wi\")]\n",
    "df_active_k20 = df[(df.Flag != \"i\") & (df.Flag != \"wi\") & (df.K != 40)]\n",
    "\n",
    "plt.hist(df.MAR22, bins=range(1000, 2900, 100), color=COLORS[\"blue\"], rwidth=0.8)\n",
    "plt.hist(df_active.MAR22, bins=range(1000, 2900, 100), color=COLORS[\"pink\"], rwidth=0.8)\n",
    "plt.hist(df_active_k20.MAR22, bins=range(1000, 2900, 100), color=COLORS[\"yellow\"], rwidth=0.8)\n",
    "\n",
    "print(\"avg rating all: \", round(np.mean(df.MAR22)))\n",
    "print(\"avg rating all active: \", round(np.mean(df_active.MAR22)))\n",
    "print(\"avg rating all active & K!=40: \", round(np.mean(df_active_k20.MAR22)))\n",
    "\n",
    "\n",
    "# K is the development coefficient.\n",
    "# K = 40 for a player new to the rating list until he has completed events with at least 30 games\n",
    "# K = 40 for all players until their 18th birthday, as long as their rating remains under 2300.\n",
    "# K = 20 as long as a player's rating remains under 2400.\n",
    "# K = 10 once a player's published rating has reached 2400. It remains at this level subsequently, even if the rating drops below 2400.\n",
    "\n"
   ]
  },
  {
   "cell_type": "code",
   "execution_count": 12,
   "metadata": {},
   "outputs": [
    {
     "name": "stdout",
     "output_type": "stream",
     "text": [
      "1000\n",
      "1100\n",
      "1200\n",
      "1300\n",
      "1400\n",
      "1500\n",
      "1600\n",
      "1700\n",
      "1800\n",
      "1900\n",
      "2000\n",
      "2100\n",
      "2200\n",
      "2300\n",
      "2400\n",
      "2500\n",
      "2600\n",
      "2700\n"
     ]
    }
   ],
   "source": [
    "for x in range(1000, 2900, 100):\n",
    "    print(x)\n"
   ]
  }
 ],
 "metadata": {
  "interpreter": {
   "hash": "0600588c3b5f4418cbe7b5ebc6825b479f3bc010269d8b60d75058cdd010adfe"
  },
  "kernelspec": {
   "display_name": "Python 3.7.9 64-bit",
   "language": "python",
   "name": "python3"
  },
  "language_info": {
   "codemirror_mode": {
    "name": "ipython",
    "version": 3
   },
   "file_extension": ".py",
   "mimetype": "text/x-python",
   "name": "python",
   "nbconvert_exporter": "python",
   "pygments_lexer": "ipython3",
   "version": "3.9.10"
  },
  "orig_nbformat": 4
 },
 "nbformat": 4,
 "nbformat_minor": 2
}
